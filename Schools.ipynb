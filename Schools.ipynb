{
 "cells": [
  {
   "cell_type": "markdown",
   "metadata": {},
   "source": [
    "# Read in the data"
   ]
  },
  {
   "cell_type": "code",
   "execution_count": 2,
   "metadata": {
    "collapsed": true
   },
   "outputs": [],
   "source": [
    "import pandas as pd\n",
    "import numpy \n",
    "import re\n",
    "import matplotlib.pyplot as plt \n",
    "\n",
    "data_files = [\n",
    "    \"ap_2010.csv\",\n",
    "    \"class_size.csv\",\n",
    "    \"demographics.csv\",\n",
    "    \"graduation.csv\",\n",
    "    \"hs_directory.csv\",\n",
    "    \"sat_results.csv\"\n",
    "]\n",
    "\n",
    "data = {}\n",
    "\n",
    "for f in data_files:\n",
    "    d = pd.read_csv(\"schools/{0}\".format(f))\n",
    "    data[f.replace(\".csv\", \"\")] = d"
   ]
  },
  {
   "cell_type": "markdown",
   "metadata": {},
   "source": [
    "# Read in the surveys"
   ]
  },
  {
   "cell_type": "code",
   "execution_count": 3,
   "metadata": {
    "collapsed": true
   },
   "outputs": [],
   "source": [
    "all_survey = pd.read_csv(\"schools/survey_all.txt\", delimiter=\"\\t\", encoding='windows-1252')\n",
    "d75_survey = pd.read_csv(\"schools/survey_d75.txt\", delimiter=\"\\t\", encoding='windows-1252')\n",
    "survey = pd.concat([all_survey, d75_survey], axis=0)\n",
    "\n",
    "survey[\"DBN\"] = survey[\"dbn\"]\n",
    "\n",
    "survey_fields = [\n",
    "    \"DBN\", \n",
    "    \"rr_s\", \n",
    "    \"rr_t\", \n",
    "    \"rr_p\", \n",
    "    \"N_s\", \n",
    "    \"N_t\", \n",
    "    \"N_p\", \n",
    "    \"saf_p_11\", \n",
    "    \"com_p_11\", \n",
    "    \"eng_p_11\", \n",
    "    \"aca_p_11\", \n",
    "    \"saf_t_11\", \n",
    "    \"com_t_11\", \n",
    "    \"eng_t_11\", \n",
    "    \"aca_t_11\", \n",
    "    \"saf_s_11\", \n",
    "    \"com_s_11\", \n",
    "    \"eng_s_11\", \n",
    "    \"aca_s_11\", \n",
    "    \"saf_tot_11\", \n",
    "    \"com_tot_11\", \n",
    "    \"eng_tot_11\", \n",
    "    \"aca_tot_11\",\n",
    "]\n",
    "survey = survey.loc[:,survey_fields]\n",
    "data[\"survey\"] = survey"
   ]
  },
  {
   "cell_type": "code",
   "execution_count": null,
   "metadata": {
    "collapsed": true
   },
   "outputs": [],
   "source": []
  },
  {
   "cell_type": "markdown",
   "metadata": {},
   "source": [
    "# Add DBN columns"
   ]
  },
  {
   "cell_type": "code",
   "execution_count": 4,
   "metadata": {
    "collapsed": true
   },
   "outputs": [],
   "source": [
    "data[\"hs_directory\"][\"DBN\"] = data[\"hs_directory\"][\"dbn\"]\n",
    "\n",
    "def pad_csd(num):\n",
    "    string_representation = str(num)\n",
    "    if len(string_representation) > 1:\n",
    "        return string_representation\n",
    "    else:\n",
    "        return \"0\" + string_representation\n",
    "    \n",
    "data[\"class_size\"][\"padded_csd\"] = data[\"class_size\"][\"CSD\"].apply(pad_csd)\n",
    "data[\"class_size\"][\"DBN\"] = data[\"class_size\"][\"padded_csd\"] + data[\"class_size\"][\"SCHOOL CODE\"]"
   ]
  },
  {
   "cell_type": "markdown",
   "metadata": {},
   "source": [
    "# Convert columns to numeric"
   ]
  },
  {
   "cell_type": "code",
   "execution_count": 5,
   "metadata": {
    "collapsed": true
   },
   "outputs": [],
   "source": [
    "cols = ['SAT Math Avg. Score', 'SAT Critical Reading Avg. Score', 'SAT Writing Avg. Score']\n",
    "for c in cols:\n",
    "    data[\"sat_results\"][c] = pd.to_numeric(data[\"sat_results\"][c], errors=\"coerce\")\n",
    "\n",
    "data['sat_results']['sat_score'] = data['sat_results'][cols[0]] + data['sat_results'][cols[1]] + data['sat_results'][cols[2]]\n",
    "\n",
    "def find_lat(loc):\n",
    "    coords = re.findall(\"\\(.+, .+\\)\", loc)\n",
    "    lat = coords[0].split(\",\")[0].replace(\"(\", \"\")\n",
    "    return lat\n",
    "\n",
    "def find_lon(loc):\n",
    "    coords = re.findall(\"\\(.+, .+\\)\", loc)\n",
    "    lon = coords[0].split(\",\")[1].replace(\")\", \"\").strip()\n",
    "    return lon\n",
    "\n",
    "data[\"hs_directory\"][\"lat\"] = data[\"hs_directory\"][\"Location 1\"].apply(find_lat)\n",
    "data[\"hs_directory\"][\"lon\"] = data[\"hs_directory\"][\"Location 1\"].apply(find_lon)\n",
    "\n",
    "data[\"hs_directory\"][\"lat\"] = pd.to_numeric(data[\"hs_directory\"][\"lat\"], errors=\"coerce\")\n",
    "data[\"hs_directory\"][\"lon\"] = pd.to_numeric(data[\"hs_directory\"][\"lon\"], errors=\"coerce\")"
   ]
  },
  {
   "cell_type": "markdown",
   "metadata": {},
   "source": [
    "# Condense datasets"
   ]
  },
  {
   "cell_type": "code",
   "execution_count": 6,
   "metadata": {
    "collapsed": true
   },
   "outputs": [],
   "source": [
    "class_size = data[\"class_size\"]\n",
    "class_size = class_size[class_size[\"GRADE \"] == \"09-12\"]\n",
    "class_size = class_size[class_size[\"PROGRAM TYPE\"] == \"GEN ED\"]\n",
    "\n",
    "class_size = class_size.groupby(\"DBN\").agg(numpy.mean)\n",
    "class_size.reset_index(inplace=True)\n",
    "data[\"class_size\"] = class_size\n",
    "\n",
    "data[\"demographics\"] = data[\"demographics\"][data[\"demographics\"][\"schoolyear\"] == 20112012]\n",
    "\n",
    "data[\"graduation\"] = data[\"graduation\"][data[\"graduation\"][\"Cohort\"] == \"2006\"]\n",
    "data[\"graduation\"] = data[\"graduation\"][data[\"graduation\"][\"Demographic\"] == \"Total Cohort\"]"
   ]
  },
  {
   "cell_type": "markdown",
   "metadata": {},
   "source": [
    "# Convert AP scores to numeric"
   ]
  },
  {
   "cell_type": "code",
   "execution_count": 7,
   "metadata": {
    "collapsed": true
   },
   "outputs": [],
   "source": [
    "cols = ['AP Test Takers ', 'Total Exams Taken', 'Number of Exams with scores 3 4 or 5']\n",
    "\n",
    "for col in cols:\n",
    "    data[\"ap_2010\"][col] = pd.to_numeric(data[\"ap_2010\"][col], errors=\"coerce\")"
   ]
  },
  {
   "cell_type": "markdown",
   "metadata": {},
   "source": [
    "# Combine the datasets"
   ]
  },
  {
   "cell_type": "code",
   "execution_count": 8,
   "metadata": {
    "collapsed": true
   },
   "outputs": [],
   "source": [
    "combined = data[\"sat_results\"]\n",
    "\n",
    "combined = combined.merge(data[\"ap_2010\"], on=\"DBN\", how=\"left\")\n",
    "combined = combined.merge(data[\"graduation\"], on=\"DBN\", how=\"left\")\n",
    "\n",
    "to_merge = [\"class_size\", \"demographics\", \"survey\", \"hs_directory\"]\n",
    "\n",
    "for m in to_merge:\n",
    "    combined = combined.merge(data[m], on=\"DBN\", how=\"inner\")\n",
    "\n",
    "combined = combined.fillna(combined.mean())\n",
    "combined = combined.fillna(0)"
   ]
  },
  {
   "cell_type": "markdown",
   "metadata": {},
   "source": [
    "# Add a school district column for mapping"
   ]
  },
  {
   "cell_type": "code",
   "execution_count": 9,
   "metadata": {
    "collapsed": true
   },
   "outputs": [],
   "source": [
    "def get_first_two_chars(dbn):\n",
    "    return dbn[0:2]\n",
    "\n",
    "combined[\"school_dist\"] = combined[\"DBN\"].apply(get_first_two_chars)"
   ]
  },
  {
   "cell_type": "markdown",
   "metadata": {},
   "source": [
    "# Find correlations"
   ]
  },
  {
   "cell_type": "code",
   "execution_count": 10,
   "metadata": {
    "collapsed": false
   },
   "outputs": [
    {
     "name": "stdout",
     "output_type": "stream",
     "text": [
      "SAT Critical Reading Avg. Score         0.986820\n",
      "SAT Math Avg. Score                     0.972643\n",
      "SAT Writing Avg. Score                  0.987771\n",
      "sat_score                               1.000000\n",
      "AP Test Takers                          0.523140\n",
      "Total Exams Taken                       0.514333\n",
      "Number of Exams with scores 3 4 or 5    0.463245\n",
      "Total Cohort                            0.325144\n",
      "CSD                                     0.042948\n",
      "NUMBER OF STUDENTS / SEATS FILLED       0.394626\n",
      "NUMBER OF SECTIONS                      0.362673\n",
      "AVERAGE CLASS SIZE                      0.381014\n",
      "SIZE OF SMALLEST CLASS                  0.249949\n",
      "SIZE OF LARGEST CLASS                   0.314434\n",
      "SCHOOLWIDE PUPIL-TEACHER RATIO               NaN\n",
      "schoolyear                                   NaN\n",
      "fl_percent                                   NaN\n",
      "frl_percent                            -0.722225\n",
      "total_enrollment                        0.367857\n",
      "ell_num                                -0.153778\n",
      "ell_percent                            -0.398750\n",
      "sped_num                                0.034933\n",
      "sped_percent                           -0.448170\n",
      "asian_num                               0.475445\n",
      "asian_per                               0.570730\n",
      "black_num                               0.027979\n",
      "black_per                              -0.284139\n",
      "hispanic_num                            0.025744\n",
      "hispanic_per                           -0.396985\n",
      "white_num                               0.449559\n",
      "                                          ...   \n",
      "rr_p                                    0.047925\n",
      "N_s                                     0.423463\n",
      "N_t                                     0.291463\n",
      "N_p                                     0.421530\n",
      "saf_p_11                                0.122913\n",
      "com_p_11                               -0.115073\n",
      "eng_p_11                                0.020254\n",
      "aca_p_11                                0.035155\n",
      "saf_t_11                                0.313810\n",
      "com_t_11                                0.082419\n",
      "eng_t_11                                0.036906\n",
      "aca_t_11                                0.132348\n",
      "saf_s_11                                0.337639\n",
      "com_s_11                                0.187370\n",
      "eng_s_11                                0.213822\n",
      "aca_s_11                                0.339435\n",
      "saf_tot_11                              0.318753\n",
      "com_tot_11                              0.077310\n",
      "eng_tot_11                              0.100102\n",
      "aca_tot_11                              0.190966\n",
      "grade_span_max                               NaN\n",
      "expgrade_span_max                            NaN\n",
      "zip                                    -0.063977\n",
      "total_students                          0.407827\n",
      "number_programs                         0.117012\n",
      "priority08                                   NaN\n",
      "priority09                                   NaN\n",
      "priority10                                   NaN\n",
      "lat                                    -0.121029\n",
      "lon                                    -0.132222\n",
      "Name: sat_score, Length: 67, dtype: float64\n"
     ]
    }
   ],
   "source": [
    "correlations = combined.corr()\n",
    "correlations = correlations[\"sat_score\"]\n",
    "print(correlations)"
   ]
  },
  {
   "cell_type": "markdown",
   "metadata": {},
   "source": [
    "# Plotting survey correlations"
   ]
  },
  {
   "cell_type": "code",
   "execution_count": 22,
   "metadata": {
    "collapsed": false
   },
   "outputs": [
    {
     "data": {
      "text/plain": [
       "<function matplotlib.pyplot.show>"
      ]
     },
     "execution_count": 22,
     "metadata": {},
     "output_type": "execute_result"
    },
    {
     "data": {
      "image/png": "[encoded data removed]",
      "text/plain": [
       "<matplotlib.figure.Figure at 0x7f49987a7c18>"
      ]
     },
     "metadata": {},
     "output_type": "display_data"
    }
   ],
   "source": [
    "# Remove DBN since it's a unique identifier, not a useful numerical value for correlation.\n",
    "%matplotlib inline\n",
    "plt.bar(numpy.arange(len(survey_fields)), height = correlations[survey_fields], tick_label =survey_fields)\n",
    "plt.show"
   ]
  },
  {
   "cell_type": "code",
   "execution_count": 23,
   "metadata": {
    "collapsed": false
   },
   "outputs": [
    {
     "name": "stdout",
     "output_type": "stream",
     "text": [
      "N_s           0.423463\n",
      "N_t           0.291463\n",
      "N_p           0.421530\n",
      "saf_t_11      0.313810\n",
      "saf_s_11      0.337639\n",
      "aca_s_11      0.339435\n",
      "saf_tot_11    0.318753\n",
      "Name: sat_score, dtype: float64\n"
     ]
    }
   ],
   "source": [
    "print(correlations[survey_fields][abs(correlations[survey_fields]) > 0.25])"
   ]
  },
  {
   "cell_type": "markdown",
   "metadata": {},
   "source": [
    "There is a high correlation between sat score and saf_t_11, saf_s_11 "
   ]
  },
  {
   "cell_type": "code",
   "execution_count": 24,
   "metadata": {
    "collapsed": false
   },
   "outputs": [
    {
     "data": {
      "image/png": "[encoded data removed]",
      "text/plain": [
       "<matplotlib.figure.Figure at 0x7f4997fa8668>"
      ]
     },
     "metadata": {},
     "output_type": "display_data"
    }
   ],
   "source": [
    "plt.scatter(combined[\"saf_s_11\"], combined[\"sat_score\"])\n",
    "plt.show()"
   ]
  },
  {
   "cell_type": "markdown",
   "metadata": {},
   "source": [
    "Schools with high student safety are more likely to score more on SAT"
   ]
  },
  {
   "cell_type": "code",
   "execution_count": 29,
   "metadata": {
    "collapsed": false
   },
   "outputs": [
    {
     "data": {
      "image/png": "[encoded data removed]",
      "text/plain": [
       "<matplotlib.figure.Figure at 0x7f4997f87be0>"
      ]
     },
     "metadata": {},
     "output_type": "display_data"
    }
   ],
   "source": [
    "districts = combined.groupby(\"school_dist\").agg(numpy.mean)\n",
    "districts.reset_index(inplace = True)\n",
    "from mpl_toolkits.basemap import Basemap\n",
    "m = Basemap(\n",
    "    projection='merc', \n",
    "    llcrnrlat=40.496044, \n",
    "    urcrnrlat=40.915256, \n",
    "    llcrnrlon=-74.255735, \n",
    "    urcrnrlon=-73.700272,\n",
    "    resolution='i'\n",
    ")\n",
    "\n",
    "m.drawmapboundary(fill_color='#85A6D9')\n",
    "m.drawcoastlines(color='#6D5F47', linewidth=.4)\n",
    "m.drawrivers(color='#6D5F47', linewidth=.4)\n",
    "\n",
    "longitudes = districts[\"lon\"].tolist()\n",
    "latitudes = districts[\"lat\"].tolist()\n",
    "m.scatter(longitudes, latitudes, s = 50, zorder = 2, latlon = True, c = districts[\"saf_s_11\"], cmap = \"summer\")\n",
    "plt.show()"
   ]
  },
  {
   "cell_type": "markdown",
   "metadata": {},
   "source": [
    "Student safety is high in Manhatten area and low in downtown Brooklyn"
   ]
  },
  {
   "cell_type": "code",
   "execution_count": 34,
   "metadata": {
    "collapsed": false
   },
   "outputs": [
    {
     "name": "stdout",
     "output_type": "stream",
     "text": [
      "white_per       0.620718\n",
      "asian_per       0.570730\n",
      "black_per      -0.284139\n",
      "hispanic_per   -0.396985\n",
      "Name: sat_score, dtype: float64\n"
     ]
    }
   ],
   "source": [
    "print(correlations[[\"white_per\", \"asian_per\", \"black_per\", \"hispanic_per\"]])"
   ]
  },
  {
   "cell_type": "markdown",
   "metadata": {},
   "source": [
    "White and Asians tend to score more on SAT, while black and hispanics do not"
   ]
  },
  {
   "cell_type": "code",
   "execution_count": 35,
   "metadata": {
    "collapsed": false
   },
   "outputs": [
    {
     "data": {
      "image/png": "[encoded data removed]",
      "text/plain": [
       "<matplotlib.figure.Figure at 0x7f4997fbd5c0>"
      ]
     },
     "metadata": {},
     "output_type": "display_data"
    }
   ],
   "source": [
    "plt.scatter(combined[\"hispanic_per\"], combined[\"sat_score\"])\n",
    "plt.show()"
   ]
  },
  {
   "cell_type": "markdown",
   "metadata": {},
   "source": [
    "Schools with high percentage of hispanics are likely to score low"
   ]
  },
  {
   "cell_type": "code",
   "execution_count": 36,
   "metadata": {
    "collapsed": false
   },
   "outputs": [
    {
     "name": "stdout",
     "output_type": "stream",
     "text": [
      "        DBN                                        SCHOOL NAME  \\\n",
      "44   02M542                      MANHATTAN BRIDGES HIGH SCHOOL   \n",
      "82   06M348   WASHINGTON HEIGHTS EXPEDITIONARY LEARNING SCHOOL   \n",
      "89   06M552  GREGORIO LUPERON HIGH SCHOOL FOR SCIENCE AND M...   \n",
      "125  09X365                ACADEMY FOR LANGUAGE AND TECHNOLOGY   \n",
      "141  10X342              INTERNATIONAL SCHOOL FOR LIBERAL ARTS   \n",
      "176  12X388   PAN AMERICAN INTERNATIONAL HIGH SCHOOL AT MONROE   \n",
      "253  19K583                          MULTICULTURAL HIGH SCHOOL   \n",
      "286  24Q296             PAN AMERICAN INTERNATIONAL HIGH SCHOOL   \n",
      "\n",
      "    Num of SAT Test Takers  SAT Critical Reading Avg. Score  \\\n",
      "44                      66                            336.0   \n",
      "82                      70                            380.0   \n",
      "89                      56                            339.0   \n",
      "125                     54                            315.0   \n",
      "141                     49                            300.0   \n",
      "176                     30                            321.0   \n",
      "253                     29                            279.0   \n",
      "286                     55                            317.0   \n",
      "\n",
      "     SAT Math Avg. Score  SAT Writing Avg. Score  sat_score  \\\n",
      "44                 378.0                   344.0     1058.0   \n",
      "82                 395.0                   399.0     1174.0   \n",
      "89                 349.0                   326.0     1014.0   \n",
      "125                339.0                   297.0      951.0   \n",
      "141                333.0                   301.0      934.0   \n",
      "176                351.0                   298.0      970.0   \n",
      "253                322.0                   286.0      887.0   \n",
      "286                323.0                   311.0      951.0   \n",
      "\n",
      "                                SchoolName  AP Test Takers   \\\n",
      "44           Manhattan Bridges High School        67.000000   \n",
      "82                                       0       129.028846   \n",
      "89          GREGORIO LUPERON HS SCI & MATH        88.000000   \n",
      "125    Academy for Language and Technology        20.000000   \n",
      "141  International School for Liberal Arts        55.000000   \n",
      "176                                      0       129.028846   \n",
      "253              Multicultural High School        44.000000   \n",
      "286                                      0       129.028846   \n",
      "\n",
      "     Total Exams Taken     ...                           priority05  \\\n",
      "44          102.000000     ...                                    0   \n",
      "82          197.038462     ...      Then to New York City residents   \n",
      "89          138.000000     ...                                    0   \n",
      "125          20.000000     ...                                    0   \n",
      "141          73.000000     ...                                    0   \n",
      "176         197.038462     ...                                    0   \n",
      "253          44.000000     ...                                    0   \n",
      "286         197.038462     ...                                    0   \n",
      "\n",
      "    priority06 priority07 priority08  priority09 priority10  \\\n",
      "44           0          0          0           0          0   \n",
      "82           0          0          0           0          0   \n",
      "89           0          0          0           0          0   \n",
      "125          0          0          0           0          0   \n",
      "141          0          0          0           0          0   \n",
      "176          0          0          0           0          0   \n",
      "253          0          0          0           0          0   \n",
      "286          0          0          0           0          0   \n",
      "\n",
      "                                            Location 1        lat        lon  \\\n",
      "44   525 West 50Th Street\\nNew York, NY 10019\\n(40....  40.765027 -73.992517   \n",
      "82   511 West 182Nd Street\\nNew York, NY 10033\\n(40...  40.848879 -73.930807   \n",
      "89   501 West 165Th\\nNew York, NY 10032\\n(40.838032...  40.838032 -73.938371   \n",
      "125  1700 Macombs Road\\nBronx, NY 10453\\n(40.849102...  40.849102 -73.916088   \n",
      "141  2780 Reservoir Avenue\\nBronx, NY 10468\\n(40.87...  40.870377 -73.898163   \n",
      "176  1300 Boynton Avenue\\nBronx, NY 10472\\n(40.8313...  40.831366 -73.878823   \n",
      "253  999 Jamaica Avenue\\nBrooklyn, NY 11208\\n(40.69...  40.691144 -73.868426   \n",
      "286  45-10 94Th Street\\nElmhurst, NY 11373\\n(40.743...  40.743303 -73.870575   \n",
      "\n",
      "    school_dist  \n",
      "44           02  \n",
      "82           06  \n",
      "89           06  \n",
      "125          09  \n",
      "141          10  \n",
      "176          12  \n",
      "253          19  \n",
      "286          24  \n",
      "\n",
      "[8 rows x 160 columns]\n"
     ]
    }
   ],
   "source": [
    "hispanic_schools = combined[combined[\"hispanic_per\"] > 95]\n",
    "print(hispanic_schools)"
   ]
  },
  {
   "cell_type": "code",
   "execution_count": 39,
   "metadata": {
    "collapsed": false
   },
   "outputs": [
    {
     "name": "stdout",
     "output_type": "stream",
     "text": [
      "SAT Critical Reading Avg. Score        -0.401634\n",
      "SAT Math Avg. Score                    -0.379511\n",
      "SAT Writing Avg. Score                 -0.389774\n",
      "sat_score                              -0.396985\n",
      "AP Test Takers                         -0.220731\n",
      "Total Exams Taken                      -0.217161\n",
      "Number of Exams with scores 3 4 or 5   -0.225762\n",
      "Total Cohort                           -0.190514\n",
      "CSD                                    -0.386290\n",
      "NUMBER OF STUDENTS / SEATS FILLED      -0.203866\n",
      "NUMBER OF SECTIONS                     -0.183194\n",
      "AVERAGE CLASS SIZE                     -0.225512\n",
      "SIZE OF SMALLEST CLASS                 -0.130944\n",
      "SIZE OF LARGEST CLASS                  -0.200651\n",
      "SCHOOLWIDE PUPIL-TEACHER RATIO               NaN\n",
      "schoolyear                                   NaN\n",
      "fl_percent                                   NaN\n",
      "frl_percent                             0.571657\n",
      "total_enrollment                       -0.204418\n",
      "ell_num                                 0.170261\n",
      "ell_percent                             0.402839\n",
      "sped_num                               -0.057350\n",
      "sped_percent                            0.200753\n",
      "asian_num                              -0.261447\n",
      "asian_per                              -0.353186\n",
      "black_num                              -0.444632\n",
      "black_per                              -0.566739\n",
      "hispanic_num                            0.332997\n",
      "hispanic_per                            1.000000\n",
      "white_num                              -0.276033\n",
      "                                          ...   \n",
      "rr_p                                    0.065156\n",
      "N_s                                    -0.213173\n",
      "N_t                                    -0.160725\n",
      "N_p                                    -0.213428\n",
      "saf_p_11                                0.246928\n",
      "com_p_11                                0.278343\n",
      "eng_p_11                                0.156351\n",
      "aca_p_11                                0.196482\n",
      "saf_t_11                                0.022051\n",
      "com_t_11                               -0.044387\n",
      "eng_t_11                                0.017703\n",
      "aca_t_11                               -0.005817\n",
      "saf_s_11                                0.194651\n",
      "com_s_11                                0.058721\n",
      "eng_s_11                                0.105649\n",
      "aca_s_11                                0.046501\n",
      "saf_tot_11                              0.157841\n",
      "com_tot_11                              0.076459\n",
      "eng_tot_11                              0.094292\n",
      "aca_tot_11                              0.076210\n",
      "grade_span_max                               NaN\n",
      "expgrade_span_max                            NaN\n",
      "zip                                    -0.456948\n",
      "total_students                         -0.217876\n",
      "number_programs                        -0.178180\n",
      "priority08                                   NaN\n",
      "priority09                                   NaN\n",
      "priority10                                   NaN\n",
      "lat                                     0.619683\n",
      "lon                                    -0.000633\n",
      "Name: hispanic_per, Length: 67, dtype: float64\n"
     ]
    }
   ],
   "source": [
    "print(combined.corr()[\"hispanic_per\"])"
   ]
  },
  {
   "cell_type": "markdown",
   "metadata": {},
   "source": [
    "Schools with high hispanic percent have lower SAT."
   ]
  },
  {
   "cell_type": "code",
   "execution_count": 40,
   "metadata": {
    "collapsed": false
   },
   "outputs": [
    {
     "name": "stdout",
     "output_type": "stream",
     "text": [
      "        DBN                                        SCHOOL NAME  \\\n",
      "37   02M475                             STUYVESANT HIGH SCHOOL   \n",
      "151  10X445                       BRONX HIGH SCHOOL OF SCIENCE   \n",
      "187  13K430                     BROOKLYN TECHNICAL HIGH SCHOOL   \n",
      "327  28Q687  QUEENS HIGH SCHOOL FOR THE SCIENCES AT YORK CO...   \n",
      "356  31R605                STATEN ISLAND TECHNICAL HIGH SCHOOL   \n",
      "\n",
      "    Num of SAT Test Takers  SAT Critical Reading Avg. Score  \\\n",
      "37                     832                            679.0   \n",
      "151                    731                            632.0   \n",
      "187                   1277                            587.0   \n",
      "327                    121                            612.0   \n",
      "356                    227                            635.0   \n",
      "\n",
      "     SAT Math Avg. Score  SAT Writing Avg. Score  sat_score  \\\n",
      "37                 735.0                   682.0     2096.0   \n",
      "151                688.0                   649.0     1969.0   \n",
      "187                659.0                   587.0     1833.0   \n",
      "327                660.0                   596.0     1868.0   \n",
      "356                682.0                   636.0     1953.0   \n",
      "\n",
      "                              SchoolName  AP Test Takers   Total Exams Taken  \\\n",
      "37                         STUYVESANT HS           1510.0             2819.0   \n",
      "151                  BRONX HS OF SCIENCE           1190.0             2435.0   \n",
      "187                BROOKLYN TECHNICAL HS           2117.0             3692.0   \n",
      "327  Queens HS for Science York Colllege            215.0              338.0   \n",
      "356           STATEN ISLAND TECHNICAL HS            528.0              905.0   \n",
      "\n",
      "        ...      priority05 priority06 priority07 priority08  priority09  \\\n",
      "37      ...               0          0          0          0           0   \n",
      "151     ...               0          0          0          0           0   \n",
      "187     ...               0          0          0          0           0   \n",
      "327     ...               0          0          0          0           0   \n",
      "356     ...               0          0          0          0           0   \n",
      "\n",
      "    priority10                                         Location 1        lat  \\\n",
      "37           0  345 Chambers Street\\nNew York, NY 10282\\n(40.7...  40.717746   \n",
      "151          0  75 West 205 Street\\nBronx, NY 10468\\n(40.87705...  40.877056   \n",
      "187          0  29 Ft Greene Place\\nBrooklyn, NY 11217\\n(40.68...  40.688107   \n",
      "327          0  94-50 159 Street\\nJamaica, NY 11433\\n(40.70099...  40.700999   \n",
      "356          0  485 Clawson Street\\nStaten Island, NY 10306\\n(...  40.567913   \n",
      "\n",
      "           lon school_dist  \n",
      "37  -74.014049          02  \n",
      "151 -73.889780          10  \n",
      "187 -73.976745          13  \n",
      "327 -73.798154          28  \n",
      "356 -74.115362          31  \n",
      "\n",
      "[5 rows x 160 columns]\n"
     ]
    }
   ],
   "source": [
    "print(combined[(combined[\"hispanic_per\"] < 10) & (combined[\"sat_score\"] > 1800)])"
   ]
  },
  {
   "cell_type": "markdown",
   "metadata": {},
   "source": [
    "These five schools are ranked as one of the best school in NYC"
   ]
  },
  {
   "cell_type": "code",
   "execution_count": 43,
   "metadata": {
    "collapsed": false
   },
   "outputs": [
    {
     "data": {
      "image/png": "[encoded data removed]",
      "text/plain": [
       "<matplotlib.figure.Figure at 0x7f499820be80>"
      ]
     },
     "metadata": {},
     "output_type": "display_data"
    }
   ],
   "source": [
    "correlations[[\"male_per\", \"female_per\"]].plot.bar()\n",
    "plt.show()"
   ]
  },
  {
   "cell_type": "code",
   "execution_count": 44,
   "metadata": {
    "collapsed": false
   },
   "outputs": [
    {
     "data": {
      "image/png": "[encoded data removed]",
      "text/plain": [
       "<matplotlib.figure.Figure at 0x7f49981d9470>"
      ]
     },
     "metadata": {},
     "output_type": "display_data"
    }
   ],
   "source": [
    "combined.plot.scatter(\"female_per\", \"sat_score\")\n",
    "plt.show()"
   ]
  },
  {
   "cell_type": "code",
   "execution_count": 45,
   "metadata": {
    "collapsed": false
   },
   "outputs": [
    {
     "name": "stdout",
     "output_type": "stream",
     "text": [
      "        DBN                                        SCHOOL NAME  \\\n",
      "5    01M696                     BARD HIGH SCHOOL EARLY COLLEGE   \n",
      "26   02M416                      ELEANOR ROOSEVELT HIGH SCHOOL   \n",
      "60   03M479                                 BEACON HIGH SCHOOL   \n",
      "61   03M485  FIORELLO H. LAGUARDIA HIGH SCHOOL OF MUSIC & A...   \n",
      "302  25Q525                        TOWNSEND HARRIS HIGH SCHOOL   \n",
      "\n",
      "    Num of SAT Test Takers  SAT Critical Reading Avg. Score  \\\n",
      "5                      130                            624.0   \n",
      "26                     127                            572.0   \n",
      "60                     261                            577.0   \n",
      "61                     531                            566.0   \n",
      "302                    278                            621.0   \n",
      "\n",
      "     SAT Math Avg. Score  SAT Writing Avg. Score  sat_score  \\\n",
      "5                  604.0                   628.0     1856.0   \n",
      "26                 594.0                   592.0     1758.0   \n",
      "60                 575.0                   592.0     1744.0   \n",
      "61                 564.0                   577.0     1707.0   \n",
      "302                651.0                   638.0     1910.0   \n",
      "\n",
      "                        SchoolName  AP Test Takers   Total Exams Taken  \\\n",
      "5                                0       129.028846         197.038462   \n",
      "26   Eleanor Roosevelt High School       155.000000         235.000000   \n",
      "60                   BEACON SCHOOL       166.000000         197.000000   \n",
      "61         FIORELLO H.LAGUARDIA HS       691.000000        1236.000000   \n",
      "302             TOWNSEND HARRIS HS       613.000000         796.000000   \n",
      "\n",
      "        ...      priority05 priority06 priority07 priority08  priority09  \\\n",
      "5       ...               0          0          0          0           0   \n",
      "26      ...               0          0          0          0           0   \n",
      "60      ...               0          0          0          0           0   \n",
      "61      ...               0          0          0          0           0   \n",
      "302     ...               0          0          0          0           0   \n",
      "\n",
      "    priority10                                         Location 1        lat  \\\n",
      "5            0  525 East Houston Street\\nNew York, NY 10002\\n(...  40.718962   \n",
      "26           0  411 East 76 Street\\nNew York, NY 10021\\n(40.77...  40.770116   \n",
      "60           0  227-243 West 61St Street\\nNew York, NY 10023\\n...  40.772158   \n",
      "61           0  100 Amsterdam Avenue\\nNew York, NY 10023\\n(40....  40.773671   \n",
      "302          0  149-11 Melbourne Avenue\\nFlushing, NY 11367\\n(...  40.734408   \n",
      "\n",
      "           lon school_dist  \n",
      "5   -73.976066          01  \n",
      "26  -73.953379          02  \n",
      "60  -73.987797          03  \n",
      "61  -73.985269          03  \n",
      "302 -73.821417          25  \n",
      "\n",
      "[5 rows x 160 columns]\n"
     ]
    }
   ],
   "source": [
    "print(combined[(combined[\"female_per\"] > 60) & (combined[\"sat_score\"] > 1700)])"
   ]
  },
  {
   "cell_type": "code",
   "execution_count": null,
   "metadata": {
    "collapsed": true
   },
   "outputs": [],
   "source": [
    "These schools are college-orientated"
   ]
  },
  {
   "cell_type": "code",
   "execution_count": 47,
   "metadata": {
    "collapsed": false
   },
   "outputs": [
    {
     "name": "stdout",
     "output_type": "stream",
     "text": [
      "0.05717081390766967\n"
     ]
    },
    {
     "data": {
      "image/png": "[encoded data removed]",
      "text/plain": [
       "<matplotlib.figure.Figure at 0x7f49981e2240>"
      ]
     },
     "metadata": {},
     "output_type": "display_data"
    }
   ],
   "source": [
    "combined[\"ap_per\"] = combined[\"AP Test Takers \"] / combined[\"total_enrollment\"]\n",
    "combined.plot.scatter(\"ap_per\", \"sat_score\")\n",
    "print(combined.corr()[\"sat_score\"][\"ap_per\"])"
   ]
  },
  {
   "cell_type": "markdown",
   "metadata": {},
   "source": [
    "There is no corrolation between AP exams and SAT scores"
   ]
  }
 ],
 "metadata": {
  "kernelspec": {
   "display_name": "Python 3",
   "language": "python",
   "name": "python3"
  },
  "language_info": {
   "codemirror_mode": {
    "name": "ipython",
    "version": 3
   },
   "file_extension": ".py",
   "mimetype": "text/x-python",
   "name": "python",
   "nbconvert_exporter": "python",
   "pygments_lexer": "ipython3",
   "version": "3.4.3"
  }
 },
 "nbformat": 4,
 "nbformat_minor": 2
}
